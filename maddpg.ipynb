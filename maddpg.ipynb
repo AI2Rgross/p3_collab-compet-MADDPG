{
 "cells": [
  {
   "cell_type": "markdown",
   "metadata": {},
   "source": [
    "# Collaboration and Competition using ddpg\n",
    "\n",
    "---\n",
    "\n",
    "In this notebook, I use the DDPG baseline and some variation of it to train multiples agents to play tennis in a Unity ML-Agents environment. This project correspond to the third project of the [Deep Reinforcement Learning Nanodegree](https://www.udacity.com/course/deep-reinforcement-learning-nanodegree--nd893) program.\n",
    "\n",
    "## 1. Naive Approach\n",
    "### Start the Environment\n",
    "First, I imports necessary packages. If the code cell below returns an error, please revisit the project instructions to double-check that you have installed [Unity ML-Agents](https://github.com/Unity-Technologies/ml-agents/blob/master/docs/Installation.md) and [NumPy](http://www.numpy.org/)."
   ]
  },
  {
   "cell_type": "code",
   "execution_count": 1,
   "metadata": {},
   "outputs": [],
   "source": [
    "from unityagents import UnityEnvironment\n",
    "from unityagents import UnityEnvironment\n",
    "import numpy as np\n",
    "from collections import deque\n",
    "import matplotlib.pyplot as plt\n",
    "%matplotlib inline\n",
    "import torch\n"
   ]
  },
  {
   "cell_type": "markdown",
   "metadata": {},
   "source": [
    "Before running the next cell, check that the path for the environment is correct. Change the `file_name` parameter to match the location of the Unity environment that you downloaded before.\n",
    "\n",
    "- **Mac**: `\"path/to/Tennis.app\"`\n",
    "- **Windows** (x86): `\"path/to/Tennis_Windows_x86/Tennis.exe\"`\n",
    "- **Windows** (x86_64): `\"path/to/Tennis_Windows_x86_64/Tennis.exe\"`\n",
    "- **Linux** (x86): `\"path/to/Tennis_Linux/Tennis.x86\"`\n",
    "- **Linux** (x86_64): `\"path/to/Tennis_Linux/Tennis.x86_64\"`\n",
    "- **Linux** (x86, headless): `\"path/to/Tennis_Linux_NoVis/Tennis.x86\"`\n",
    "- **Linux** (x86_64, headless): `\"path/to/Tennis_Linux_NoVis/Tennis.x86_64\"`"
   ]
  },
  {
   "cell_type": "code",
   "execution_count": 2,
   "metadata": {},
   "outputs": [
    {
     "name": "stderr",
     "output_type": "stream",
     "text": [
      "INFO:unityagents:\n",
      "'Academy' started successfully!\n",
      "Unity Academy name: Academy\n",
      "        Number of Brains: 1\n",
      "        Number of External Brains : 1\n",
      "        Lesson number : 0\n",
      "        Reset Parameters :\n",
      "\t\t\n",
      "Unity brain name: TennisBrain\n",
      "        Number of Visual Observations (per agent): 0\n",
      "        Vector Observation space type: continuous\n",
      "        Vector Observation space size (per agent): 8\n",
      "        Number of stacked Vector Observation: 3\n",
      "        Vector Action space type: continuous\n",
      "        Vector Action space size (per agent): 2\n",
      "        Vector Action descriptions: , \n"
     ]
    }
   ],
   "source": [
    "env = UnityEnvironment(file_name=\"/home/raphe/Cours/Nanodegree_DRL/env/Tennis_Linux/Tennis.x86_64\")"
   ]
  },
  {
   "cell_type": "markdown",
   "metadata": {},
   "source": [
    "Environments contain **_brains_** which are responsible for deciding the actions of their associated agents. Here we check for the first brain available, and set it as the default brain we will be controlling from Python."
   ]
  },
  {
   "cell_type": "code",
   "execution_count": 3,
   "metadata": {},
   "outputs": [
    {
     "name": "stdout",
     "output_type": "stream",
     "text": [
      "['TennisBrain']\n"
     ]
    }
   ],
   "source": [
    "# Here we take the brain name  and set it as the default\n",
    "# Environments contain brains which are responsible for deciding the actions of their associated agents\n",
    "# We use 2 agents. Depending on the algorythm used to solve the environement\n",
    "# the agents may collaborate or not. But from a technical point of view one could say that they are indepandant\n",
    "# as they dont evolve in the same space.\n",
    "brain_name= env.brain_names\n",
    "\n",
    "\n",
    "print(brain_name)"
   ]
  },
  {
   "cell_type": "markdown",
   "metadata": {},
   "source": [
    "### Examine the State and Action Spaces\n",
    "\n",
    "As I stated in README.MD, the goal of the two agents is to bounce a ball over a net using a racket as long as possible. If the agent hits the ball over the net, it receives a reward of +0.1. But, if the agent lets the ball hit the ground or hit it oustide of the table, it receives a reward of -0.01.  Thus, the goal of each agent is to keep the ball in play.\n",
    "\n",
    "The observation space consists of 8 variables corresponding to the position and velocity of the ball and racket.\n",
    "Each agent has only two continuous actions available:\n",
    "- moving toward or away the net\n",
    "- jumping. "
   ]
  },
  {
   "cell_type": "code",
   "execution_count": 4,
   "metadata": {},
   "outputs": [],
   "source": [
    "brain_name= env.brain_names[0]\n",
    "brain = env.brains[brain_name]"
   ]
  },
  {
   "cell_type": "code",
   "execution_count": 5,
   "metadata": {},
   "outputs": [
    {
     "name": "stdout",
     "output_type": "stream",
     "text": [
      "Number of agents: 2\n",
      "Size of each action: 2\n",
      "There are 2 agents. Each observes a state with length: 24\n",
      "The state for the first agent looks like: [ 0.          0.          0.          0.          0.          0.\n",
      "  0.          0.          0.          0.          0.          0.\n",
      "  0.          0.          0.          0.         -6.65278625 -1.5\n",
      " -0.          0.          6.83172083  6.         -0.          0.        ]\n",
      "2 24\n"
     ]
    }
   ],
   "source": [
    "# reset the environment\n",
    " \n",
    "env_info = env.reset(train_mode=True)[brain_name]\n",
    "\n",
    "\n",
    "# number of agents \n",
    "num_agents = len(env_info.agents)\n",
    "print('Number of agents:', num_agents)\n",
    "\n",
    "# size of each action\n",
    "action_size = brain.vector_action_space_size\n",
    "print('Size of each action:', action_size)\n",
    "\n",
    "# examine the state space \n",
    "states = env_info.vector_observations\n",
    "state_size = states.shape[1]\n",
    "print('There are {} agents. Each observes a state with length: {}'.format(states.shape[0], state_size))\n",
    "print('The state for the first agent looks like:', states[0])\n",
    "\n",
    "print(action_size,state_size)"
   ]
  },
  {
   "cell_type": "markdown",
   "metadata": {},
   "source": [
    "### Take Random Actions in the Environment\n",
    "\n",
    "In the next code cell, I use the Python API to control the agents and receive feedback from the environment.\n",
    "\n",
    "As one can see, the comportement of each agent and his performance are really bad. \n",
    "This is due to the fact that the agent has not yet learned how to play tennis. I use a random function to define the actions values. "
   ]
  },
  {
   "cell_type": "code",
   "execution_count": null,
   "metadata": {},
   "outputs": [],
   "source": []
  },
  {
   "cell_type": "code",
   "execution_count": null,
   "metadata": {},
   "outputs": [],
   "source": [
    "\n"
   ]
  },
  {
   "cell_type": "markdown",
   "metadata": {},
   "source": [
    "## Training"
   ]
  },
  {
   "cell_type": "markdown",
   "metadata": {},
   "source": []
  },
  {
   "cell_type": "code",
   "execution_count": 6,
   "metadata": {},
   "outputs": [],
   "source": [
    "import numpy as np\n",
    "\n",
    "import torch\n",
    "import torch.nn as nn\n",
    "import torch.nn.functional as F\n",
    "\n",
    "def hidden_init(layer):\n",
    "    fan_in = layer.weight.data.size()[0]\n",
    "    lim = 1. / np.sqrt(fan_in)\n",
    "    return (-lim, lim)\n",
    "\n",
    "class Actor(nn.Module):\n",
    "    \"\"\"Actor (Policy) Model.\"\"\"\n",
    "\n",
    "    def __init__(self, states_size, action_size, seed=0, fc1_units=256, fc2_units=128):\n",
    "        \"\"\"Initialize parameters and build model.\n",
    "        Params\n",
    "        ======\n",
    "            state_size (int): Dimension of each state\n",
    "            action_size (int): Dimension of each action\n",
    "            seed (int): Random seed\n",
    "            fc1_units (int): Number of nodes in first hidden layer\n",
    "            fc2_units (int): Number of nodes in second hidden layer\n",
    "        \"\"\"\n",
    "        super(Actor, self).__init__()\n",
    "        self.seed = torch.manual_seed(seed)\n",
    "        self.fc1 = nn.Linear(states_size,fc1_units)\n",
    "        self.fc2 = nn.Linear(fc1_units, fc2_units)      \n",
    "        self.fc3 = nn.Linear(fc2_units, action_size)\n",
    "        self.reset_parameters()\n",
    "\n",
    "    def reset_parameters(self):\n",
    "        self.fc1.weight.data.uniform_(*hidden_init(self.fc1))\n",
    "        self.fc2.weight.data.uniform_(*hidden_init(self.fc2))\n",
    "        self.fc3.weight.data.uniform_(-3e-3, 3e-3)\n",
    "\n",
    "    def forward(self, states):\n",
    "        \"\"\"Build an actor (policy) network that maps states -> actions.\"\"\"\n",
    "        x  = F.relu(self.fc1(states))\n",
    "        x  = F.relu(self.fc2(x))  \n",
    "        x  = torch.tanh(self.fc3(x))\n",
    "        return x\n",
    "\n",
    "\n",
    "class Critic(nn.Module):\n",
    "    \"\"\"Critic (Value) Model.\"\"\"\n",
    "\n",
    "    \"\"\"Initialize parameters and build model.\n",
    "        Params\n",
    "        ======\n",
    "            state_size (int): Dimension of each state\n",
    "            action_size (int): Dimension of each action\n",
    "            seed (int): Random seed\n",
    "            fcs1_units (int): Number of nodes in the first hidden layer\n",
    "        fc2_units (int): Number of nodes in the second hidden layer\n",
    "    \"\"\"\n",
    "    def __init__(self, states_size, actions_size, seed=0, fc1_units=256, fc2_units=128):\n",
    "        \"\"\"Initialize parameters and build model.\"\"\"\n",
    "        super(Critic, self).__init__()\n",
    "        self.seed = torch.manual_seed(seed)\n",
    "        self.fc1 = nn.Linear(states_size, fc1_units)\n",
    "        self.fc2 = nn.Linear(fc1_units+(actions_size), fc2_units)\n",
    "        self.fc3 = nn.Linear(fc2_units, 1)\n",
    "        self.reset_parameters()\n",
    "\n",
    "    def reset_parameters(self):\n",
    "        self.fc1.weight.data.uniform_(*hidden_init(self.fc1))\n",
    "        self.fc2.weight.data.uniform_(*hidden_init(self.fc2))\n",
    "        self.fc3.weight.data.uniform_(-3e-3, 3e-3)\n",
    "        \n",
    "    def forward(self, states, actions):\n",
    "        \"\"\"Build a critic (value) network that maps (state, action) pairs -> Q-values.\"\"\"\n",
    "        xs = F.relu(self.fc1(states))\n",
    "        x = torch.cat((xs, actions), dim=1)\n",
    "        x = F.relu(self.fc2(x))\n",
    "        return self.fc3(x)\n",
    "         \n",
    "\n"
   ]
  },
  {
   "cell_type": "code",
   "execution_count": null,
   "metadata": {},
   "outputs": [],
   "source": []
  },
  {
   "cell_type": "markdown",
   "metadata": {},
   "source": [
    "### Parameters"
   ]
  },
  {
   "cell_type": "code",
   "execution_count": 7,
   "metadata": {},
   "outputs": [],
   "source": [
    "import numpy as np\n",
    "import random\n",
    "import copy\n",
    "from collections import namedtuple, deque\n",
    "\n",
    "\n",
    "import torch\n",
    "import torch.nn.functional as F\n",
    "import torch.optim as optim\n",
    "\n",
    "BUFFER_SIZE = int(1e6)  # replay buffer size\n",
    "BATCH_SIZE = 128        # minibatch size\n",
    "GAMMA = 0.99         # discount factor\n",
    "TAU = 6e-2             # for soft update of target parameters\n",
    "LR_ACTOR = 1e-3         # learning rate of the actor \n",
    "LR_CRITIC = 1e-3        # learning rate of the critic\n",
    "WEIGHT_DECAY = 0.00     # L2 weight decay\n",
    "UPDATE_EVERY=1\n",
    "device = torch.device(\"cuda:0\" if torch.cuda.is_available() else \"cpu\")"
   ]
  },
  {
   "cell_type": "markdown",
   "metadata": {},
   "source": [
    "### Class Noise"
   ]
  },
  {
   "cell_type": "code",
   "execution_count": 8,
   "metadata": {},
   "outputs": [],
   "source": [
    "class OUNoise:\n",
    "    \"\"\"Ornstein-Uhlenbeck process.\"\"\"\n",
    "\n",
    "    def __init__(self, size, seed, mu=0.0, theta=0.13, sigma=0.2):\n",
    "        \"\"\"Initialize parameters and noise process.\"\"\"\n",
    "        self.mu = mu * np.ones(size)\n",
    "        self.theta = theta\n",
    "        self.sigma = sigma\n",
    "        self.seed = random.seed(seed)\n",
    "        self.size = size\n",
    "        self.reset()\n",
    "\n",
    "    def reset(self):\n",
    "        \"\"\"Reset the internal state (= noise) to mean (mu).\"\"\"\n",
    "        self.state = copy.copy(self.mu)\n",
    "\n",
    "    def sample(self):\n",
    "        \"\"\"Update internal state and return it as a noise sample.\"\"\"\n",
    "        x = self.state\n",
    "        dx = self.theta * (self.mu - x) + self.sigma * np.random.standard_normal(self.size)\n",
    "        self.state = x + dx\n",
    "        return self.state\n"
   ]
  },
  {
   "cell_type": "markdown",
   "metadata": {},
   "source": [
    "### Replay buffer"
   ]
  },
  {
   "cell_type": "code",
   "execution_count": 9,
   "metadata": {},
   "outputs": [],
   "source": [
    "class ReplayBuffer:\n",
    "    \"\"\"Fixed-size buffer to store experience tuples.\"\"\"\n",
    "\n",
    "    def __init__(self, buffer_size, batch_size, seed):\n",
    "        \"\"\"Initialize a ReplayBuffer object.\n",
    "        Params\n",
    "        ======\n",
    "            buffer_size (int): maximum size of buffer\n",
    "            batch_size (int): size of each training batch\n",
    "        \"\"\"\n",
    "\n",
    "        self.memory = deque(maxlen=buffer_size)  # internal memory (deque)\n",
    "        self.batch_size = batch_size\n",
    "        self.experience = namedtuple(\"Experience\", field_names=[\"state\", \"action\", \"reward\", \"next_state\", \"done\"])\n",
    "        random.seed(seed)\n",
    "   \n",
    "    def add(self, state, action, reward, next_state, done):\n",
    "        \"\"\"Add a new experience to memory.\"\"\"\n",
    "        e = self.experience(state, action, reward, next_state, done)\n",
    "        self.memory.append(e)\n",
    " \n",
    "    def sample(self):\n",
    "        \"\"\"Randomly sample a batch of experiences from memory.\"\"\"\n",
    "        experiences = random.sample(self.memory, k=self.batch_size)\n",
    "        states = torch.from_numpy(np.vstack([e.state for e in experiences if e is not None])).float().to(device)\n",
    "        actions = torch.from_numpy(np.vstack([e.action for e in experiences if e is not None])).float().to(device)\n",
    "        rewards = torch.from_numpy(np.vstack([e.reward for e in experiences if e is not None])).float().to(device)\n",
    "        next_states = torch.from_numpy(np.vstack([e.next_state for e in experiences if e is not None])).float().to(device)\n",
    "        dones = torch.from_numpy(np.vstack([e.done for e in experiences if e is not None]).astype(np.uint8)).float().to(device)\n",
    " \n",
    "        return states, actions, rewards, next_states, dones\n",
    "\n",
    "    def __len__(self):\n",
    "        \"\"\"Return the current size of internal memory.\"\"\"\n",
    "        return len(self.memory)\n"
   ]
  },
  {
   "cell_type": "markdown",
   "metadata": {},
   "source": [
    "### Class agent "
   ]
  },
  {
   "cell_type": "code",
   "execution_count": 10,
   "metadata": {},
   "outputs": [],
   "source": [
    "class Agent():\n",
    "    \"\"\"Interacts with and learns from the environment.\"\"\"\n",
    "    \n",
    "    def __init__(self, state_size, action_size,ind,nb_agent ,random_seed=0):\n",
    "        \"\"\"Initialize an Agent object.\n",
    "        \n",
    "        Params\n",
    "        ======\n",
    "            state_size (int): dimension of each state\n",
    "            action_size (int): dimension of each action\n",
    "            random_seed (int): random seed\n",
    "        \"\"\"\n",
    "        self.state_size   = state_size[ind]\n",
    "        self.action_size  = action_size[ind]\n",
    "        self.states_size  = sum(state_size)\n",
    "        self.actions_size = sum(action_size)\n",
    "        \n",
    "       # self.seed = random.seed(random_seed)\n",
    "        self.rate=1\n",
    "        # Actor Network (w/ Target Network)\n",
    "        self.actor_local = Actor(48, self.action_size).to(device)\n",
    "        self.actor_target = Actor(48, self.action_size).to(device)\n",
    "        self.actor_optimizer = optim.Adam(self.actor_local.parameters(), lr=LR_ACTOR)\n",
    "\n",
    "        # Critic Network (w/ Target Network)\n",
    "        self.critic_local = Critic(self.states_size, self.actions_size).to(device)\n",
    "        self.critic_target = Critic(self.states_size, self.actions_size).to(device)\n",
    "        self.critic_optimizer = optim.Adam(self.critic_local.parameters(), lr=LR_CRITIC, weight_decay=WEIGHT_DECAY)\n",
    "\n",
    "        # Noise process\n",
    "        self.noise = OUNoise(self.action_size, random_seed)\n",
    "\n",
    "\n",
    "    def act(self, states,action_size, add_noise=True,rate=0.99):\n",
    "        \"\"\"Returns actions for given state as per current policy.\"\"\"\n",
    "        states = torch.from_numpy(states).float().to(device)\n",
    "        # Determine action value: \n",
    "        # We use the network in evaluation mode. (it may differt from training depending of the architecture: dropout, batchnormal)\n",
    "        self.actor_local.eval() \n",
    "        with torch.no_grad():\n",
    "            action = self.actor_local(states).cpu().data.numpy()\n",
    "        self.actor_local.train()\n",
    "\n",
    "        # Epsilon-greedy action selection\n",
    "        \n",
    "        \"\"\"  \n",
    "        self.rate=rate*self.rate\n",
    "        \n",
    "        if random.random() > 0.1*self.rate :\n",
    "            return np.argmax(action.cpu().data.numpy())\n",
    "        else:\n",
    "            return random.choice(np.arange(action_size))\n",
    " \n",
    "        \"\"\"\n",
    "        if add_noise:\n",
    "            self.rate=rate*self.rate\n",
    "            self.noise_val = self.noise.sample()*self.rate\n",
    "            action += self.noise_val\n",
    "        return np.clip(action, -1, 1)\n",
    "      \n",
    "    def reset(self):\n",
    "        self.noise.reset()\n",
    "       \n",
    "    def learn(self,states, actions,next_states,next_actions, actions_pred,\\\n",
    "               reward,done,gamma):\n",
    " \n",
    "        \"\"\"Update policy and value parameters using given batch of experience tuples.\n",
    "        Q_targets = r + γ * critic_target(next_state, actor_target(next_state))\n",
    "        where:\n",
    "            actor_target(state) -> action\n",
    "            critic_target(state, action) -> Q-value\n",
    "\n",
    "        Params\n",
    "        ======\n",
    "            experiences (Tuple[torch.Tensor]): tuple of (s, a, r, s', done) tuples \n",
    "            gamma (float): discount factor\n",
    "        \"\"\"\n",
    "        # ---------------------------- update critic ---------------------------- #\n",
    "\n",
    "        # Compute Q targets for current states (y_i)\n",
    "\n",
    "        with torch.no_grad():\n",
    "            Q_targets_next = self.critic_target(next_states, next_actions) \n",
    "            #for i in range(BATCH_SIZE):\n",
    "            #print(\"Q_targets\",Q_targets_next)\n",
    "            Q_targets_next=reward+gamma*Q_targets_next*(1-done)\n",
    "            #print( \"reward\", reward)\n",
    "            #print( \"gamma\" , gamma)          \n",
    "            Q_targets = Q_targets_next #reward  + (gamma * Q_targets_next.squeeze(1) * (1 - done))\n",
    "            #print(\"Q\",Q_targets)\n",
    "\n",
    "        # Compute Q experted using the critic\n",
    "        Q_expected = self.critic_local(states,actions)\n",
    "        #print(\"Q_expected\",Q_expected-Q_targets)\n",
    "        # Compute critic loss\n",
    "        critic_loss = F.mse_loss(Q_expected, Q_targets)\n",
    "\n",
    "\n",
    "        # Minimize the loss\n",
    "        self.critic_optimizer.zero_grad()\n",
    "        critic_loss.backward() \n",
    "        self.critic_optimizer.step()\n",
    "\n",
    "        # ---------------------------- update actor ---------------------------- #\n",
    "        # Compute actor loss       \n",
    "        actor_loss = -self.critic_local(states, actions_pred).mean()\n",
    "        self.actor_optimizer.zero_grad()\n",
    "        actor_loss.backward()\n",
    "        self.actor_optimizer.step()\n",
    "        \n",
    "        # ----------------------- update target networks ----------------------- #\n",
    "        self.soft_update(self.critic_local, self.critic_target, TAU)\n",
    "        self.soft_update(self.actor_local,self.actor_target, TAU)                     \n",
    "\n",
    "    def soft_update(self, local_model, target_model, tau):\n",
    "        \"\"\"Soft update model parameters.\n",
    "        θ_target = τ*θ_local + (1 - τ)*θ_target\n",
    "\n",
    "        Params\n",
    "        ======\n",
    "            local_model: PyTorch model (weights will be copied from)\n",
    "            target_model: PyTorch model (weights will be copied to)\n",
    "            tau (float): interpolation parameter \n",
    "        \"\"\"\n",
    "        for target_param, local_param in zip(target_model.parameters(), local_model.parameters()):\n",
    "            target_param.data.copy_(tau*local_param.data + (1.0-tau)*target_param.data)                "
   ]
  },
  {
   "cell_type": "code",
   "execution_count": 11,
   "metadata": {},
   "outputs": [],
   "source": [
    "class maddpg:\n",
    "\n",
    "    def __init__(self, state_size, action_size,nb_agent=1 ,random_seed=0):\n",
    "            # Replay memory\n",
    "        self.memory = ReplayBuffer( BUFFER_SIZE, BATCH_SIZE, random_seed)\n",
    " \n",
    "    def add_buffer(self,states, actions, rewards, next_states, dones):\n",
    "        self.memory.add(states, actions, rewards, next_states, dones)\n",
    "\n",
    "    def sample_buffer(self):\n",
    "        states, actions, rewards, next_states, dones = self.memory.sample()\n",
    "        return states.to(device).detach(),actions.to(device).detach(),rewards.to(device).detach(),next_states.to(device).detach(), dones.to(device).detach()   \n",
    "  \n",
    "    def step(self,agent,nb_agent):\n",
    "            if(BATCH_SIZE< len(self.memory)):\n",
    "\n",
    "                for id_agent in range(nb_agent):\n",
    "                    next_actions = [] \n",
    "                    actions_pred=[]\n",
    "                    states, actions, rewards,next_states,dones=MADDPG.sample_buffer()\n",
    "                   # print(\"actions\",actions)\n",
    "                    tmp_states      = states.view(BATCH_SIZE,nb_agent,24)\n",
    "                    tmp_actions     = actions.view(BATCH_SIZE,nb_agent,2)\n",
    "                    tmp_next_states = next_states.view(BATCH_SIZE,nb_agent,24)\n",
    "                    ref_next_actions=[]\n",
    "                    ref_actions_pred=[]\n",
    "                    \n",
    "                    for i in range(nb_agent):\n",
    "                        if(i==id_agent):\n",
    "                            ref_next_actions.append(agent[id_agent].actor_target(next_states))  \n",
    "                            ref_actions_pred.append(agent[id_agent].actor_local(states))\n",
    "\n",
    "                    #    else:\n",
    "                    #         ref_next_actions.append(tmp_actions[:,i,:])\n",
    "                             #ref_next_actions.append(agent[id_agent].actor_target(next_states))  \n",
    "                    #         ref_actions_pred.append(tmp_actions[:,i,:])\n",
    "                    #ref_next_actions=torch.cat(ref_next_actions,dim=1)\n",
    "                    #ref_actions_pred=torch.cat(ref_actions_pred,dim=1)\n",
    "\n",
    "                    next_actions = agent[id_agent].actor_target(next_states)\n",
    "                    if id_agent == 0:\n",
    "                        next_actions = torch.cat((next_actions, actions[:,2:]), dim=1)\n",
    "                    else:\n",
    "                        next_actions = torch.cat((actions[:,:2], next_actions), dim=1)                    \n",
    "    \n",
    "                    actions_pred = agent[id_agent].actor_local(states)\n",
    "        \n",
    "                    if id_agent == 0:\n",
    "                        actions_pred = torch.cat((actions_pred, actions[:,2:]), dim=1)\n",
    "                    else:\n",
    "                        actions_pred = torch.cat((actions[:,:2], actions_pred), dim=1)\n",
    "                    \n",
    "                    # reward=rewards.view(BATCH_SIZE,nb_agent)[:,id_agent]\n",
    "                    # done=dones.view(BATCH_SIZE,nb_agent)[:,id_agent]                   \n",
    "                    # print(\"states tmp\", states.shape(), tmp_states.shape())\n",
    "                    # print(\"action tmp\", actions.shape(), tmp_actions.shape())\n",
    "                    # print(\"next_s tmp\", next_states.shape(), tmp_next_states.shape())\n",
    "                    # print(\"rewar-done\", reward.shape(), tmp_reward.shape())\n",
    "                    #print(\"actions_pred\\n\",next_actions)\n",
    "                    #print(\"ref actions_pred\\n\",ref_next_actions)\n",
    "                    \n",
    "                    agent[id_agent].learn(states,\\\n",
    "                                   actions,\\\n",
    "                                   next_states,\\\n",
    "                                   next_actions,\\\n",
    "                                   actions_pred,\\\n",
    "                                   np.reshape(rewards[:,id_agent],(BATCH_SIZE,1)),\\\n",
    "                                   np.reshape(dones[:,id_agent],(BATCH_SIZE,1)),\\\n",
    "                                   GAMMA)\n"
   ]
  },
  {
   "cell_type": "markdown",
   "metadata": {},
   "source": []
  },
  {
   "cell_type": "code",
   "execution_count": 12,
   "metadata": {},
   "outputs": [
    {
     "name": "stdout",
     "output_type": "stream",
     "text": [
      "24\n",
      "2\n"
     ]
    }
   ],
   "source": [
    "nb_agent=2\n",
    "print(state_size)\n",
    "print(action_size)\n",
    "state_size =np.array([24, 24])\n",
    "action_size =np.array([2,2]) # first Goal keeper , than striker\n",
    "\n",
    " \n",
    "agent =[Agent(state_size, action_size,i,nb_agent ,random_seed=0) for i in range(nb_agent)]\n",
    "MADDPG = maddpg(state_size, action_size,nb_agent ,random_seed=0)"
   ]
  },
  {
   "cell_type": "code",
   "execution_count": 13,
   "metadata": {},
   "outputs": [],
   "source": [
    "def multi_ddpg(env, env_info, state_size, action_size, brain_name,nb_agent, agent,MADDPG,n_episodes=10, max_t=20):\n",
    "    scores_deque = deque(maxlen=100)\n",
    "    scores = []\n",
    "    iteration=0\n",
    "    dc=0.9999\n",
    "\n",
    "    #random_actions_g = np.random.random_sample(2) * 4\n",
    "    #random_actions_s = np.random.random_sample(2) * 5       \n",
    "    #next_state, reward= env.step(action)    \n",
    "    \n",
    "    for i_episode in range(1, n_episodes):\n",
    "        env_info= env.reset(train_mode=True)[brain_name] # reset the environment       \n",
    "        [agent[i].reset() for i in range(nb_agent)] # reset the noise added to the state. Makes the training more robust.\n",
    "        score=np.zeros(2)  # initialize the score (for each agent)\n",
    "        states  = env_info.vector_observations\n",
    "        states = np.concatenate((states[0],states[1]),axis=0)\n",
    "        states = np.reshape(states, (1, 48))\n",
    "        #print(\"reshape\",states)        \n",
    "        dones=[False]\n",
    "        add_noise=False\n",
    "        for t in range(max_t):         \n",
    "            if(t>6):\n",
    "                add_noise=True\n",
    "            # actions = agent.act(states)\n",
    "            action_0 = agent[0].act(states,action_size[0],add_noise,0.999)\n",
    "            action_1 = agent[1].act(states,action_size[1],add_noise,0.999)\n",
    "            actions  = np.concatenate((action_0,action_1),axis=0)\n",
    "            actions  = np.reshape(actions, (1, 4))\n",
    "\n",
    "            env_info = env.step(actions)[brain_name]\n",
    "            \n",
    "            next_states = env_info.vector_observations\n",
    "            next_states = np.reshape(next_states,(1,48))\n",
    "            rewards     = env_info.rewards\n",
    "            dones       = env_info.local_done\n",
    "            \n",
    "            \n",
    "\n",
    "            #states = np.concatenate((states[0],states[1]),axis=0)\n",
    "            \n",
    "            \n",
    "            MADDPG.add_buffer(states, actions, rewards,next_states, dones)\n",
    "            MADDPG.step(agent,nb_agent)\n",
    "\n",
    "            states = next_states # roll over the state to next time step\n",
    "            score += rewards                                  # update the score (for each agent)\n",
    "            if any(dones):\n",
    "                break\n",
    "            #states = np.reshape(states, (1, 48))   \n",
    "        scores.append(np.max(score)) # save the best agent score for display\n",
    "        scores_deque.append(np.max(score)) # save the best agent score into the windows for convergence checking\n",
    "      #  print('Episode {}\\t Average Score: {:.4E}\\t: reward:{} critic:{:.4E}\\t actor:{:.4E}\\t'.format(i_episode, np.mean(scores_deque), np.max(score),critic,actor), end=\"\")\n",
    "        if i_episode>100 and np.mean(scores_deque)>5.: # check if env is solved\n",
    "            print(\"envionment solved\")\n",
    "            [torch.save(agent[i].actor_local.state_dict(), 'multi_checkpoint_actor'+str(i)+'.pth') for i in range(num_agents)] # save actor weights for each agents\n",
    "            [torch.save(agent[i].critic_local.state_dict(), 'multi_checkpoint_critic'+str(i)+'.pth') for i in range(num_agents)] # save critic weights for each agents\n",
    "            return scores\n",
    "        \n",
    "        if (i_episode%10==0):\n",
    "            print('E {}\\t A Score: {}\\t: R max : {}\\t\\n'.format(i_episode, np.mean(scores_deque), score), end=\"\")\n",
    "      #  else:\n",
    "           # print('E {}\\t A Score: {:.4E}\\t: R0__{:.4E}\\t R1__{:.4E}\\t\\n'.format(i_episode, np.mean(scores_deque), score[0],score[1]), end=\"\")\n",
    "\n",
    "        #    [torch.save(agent.actor_local[i].state_dict(), 'multi_checkpoint_actor'+str(i)+'.pth') for i in range(num_agents)] # save actor weights for each agents\n",
    "        #    [torch.save(agent.critic_local[i].state_dict(), 'multi_checkpoint_critic'+str(i)+'.pth') for i in range(num_agents)] # save critic weights for each agents\n",
    "   \n",
    "    return scores"
   ]
  },
  {
   "cell_type": "code",
   "execution_count": 14,
   "metadata": {
    "scrolled": false
   },
   "outputs": [
    {
     "name": "stdout",
     "output_type": "stream",
     "text": [
      "E 10\t A Score: 0.0\t: R max : [-0.01  0.  ]\t\n",
      "E 20\t A Score: 0.0\t: R max : [ 0.   -0.01]\t\n",
      "E 30\t A Score: 0.0\t: R max : [ 0.   -0.01]\t\n",
      "E 40\t A Score: 0.005000000074505806\t: R max : [ 0.   -0.01]\t\n",
      "E 50\t A Score: 0.00800000011920929\t: R max : [-0.02  0.1 ]\t\n",
      "E 60\t A Score: 0.0066666667660077415\t: R max : [ 0.   -0.01]\t\n",
      "E 70\t A Score: 0.005714285799435207\t: R max : [-0.01  0.  ]\t\n",
      "E 80\t A Score: 0.005000000074505806\t: R max : [-0.01  0.  ]\t\n",
      "E 90\t A Score: 0.004444444510671827\t: R max : [-0.01  0.  ]\t\n",
      "E 100\t A Score: 0.004000000059604645\t: R max : [ 0.   -0.01]\t\n",
      "E 110\t A Score: 0.005000000074505806\t: R max : [-0.01  0.  ]\t\n",
      "E 120\t A Score: 0.006900000106543303\t: R max : [ 0.   -0.01]\t\n",
      "E 130\t A Score: 0.007800000123679638\t: R max : [ 0.   -0.01]\t\n",
      "E 140\t A Score: 0.006800000108778476\t: R max : [-0.01  0.  ]\t\n",
      "E 150\t A Score: 0.005800000093877315\t: R max : [-0.01  0.  ]\t\n",
      "E 160\t A Score: 0.005800000093877315\t: R max : [ 0.   -0.01]\t\n",
      "E 170\t A Score: 0.010800000168383122\t: R max : [ 0.1  -0.01]\t\n",
      "E 180\t A Score: 0.011800000183284283\t: R max : [ 0.   -0.01]\t\n",
      "E 190\t A Score: 0.011800000183284283\t: R max : [ 0.   -0.01]\t\n",
      "E 200\t A Score: 0.015800000242888926\t: R max : [ 0.1  -0.01]\t\n",
      "E 210\t A Score: 0.018800000287592412\t: R max : [ 0.   -0.01]\t\n",
      "E 220\t A Score: 0.020800000336021186\t: R max : [ 0.   -0.01]\t\n",
      "E 230\t A Score: 0.023900000378489494\t: R max : [ 0.   -0.01]\t\n",
      "E 240\t A Score: 0.025900000408291816\t: R max : [ 0.   -0.01]\t\n",
      "E 250\t A Score: 0.024900000393390655\t: R max : [-0.01  0.  ]\t\n",
      "E 260\t A Score: 0.026900000423192977\t: R max : [ 0.   -0.01]\t\n",
      "E 270\t A Score: 0.023900000378489494\t: R max : [-0.01  0.  ]\t\n",
      "E 280\t A Score: 0.025900000408291816\t: R max : [ 0.   -0.01]\t\n",
      "E 290\t A Score: 0.03290000051259995\t: R max : [ 0.1  -0.01]\t\n",
      "E 300\t A Score: 0.03190000049769878\t: R max : [0.1  0.09]\t\n",
      "E 310\t A Score: 0.03180000049993396\t: R max : [ 0.1  -0.01]\t\n",
      "E 320\t A Score: 0.03090000046417117\t: R max : [ 0.   -0.01]\t\n",
      "E 330\t A Score: 0.03180000048130751\t: R max : [0.1  0.19]\t\n",
      "E 340\t A Score: 0.03480000052601099\t: R max : [ 0.1  -0.01]\t\n",
      "E 350\t A Score: 0.040600000619888305\t: R max : [0.   0.09]\t\n",
      "E 360\t A Score: 0.04460000067949295\t: R max : [ 0.1  -0.01]\t\n",
      "E 370\t A Score: 0.04850000074133277\t: R max : [ 0.   -0.01]\t\n",
      "E 380\t A Score: 0.048300000745803116\t: R max : [ 0.   -0.01]\t\n",
      "E 390\t A Score: 0.04730000073090196\t: R max : [ 0.1  -0.01]\t\n",
      "E 400\t A Score: 0.0513000007905066\t: R max : [-0.01  0.  ]\t\n",
      "E 410\t A Score: 0.05120000079274178\t: R max : [0.09 0.2 ]\t\n",
      "E 420\t A Score: 0.05410000083968043\t: R max : [-0.01  0.  ]\t\n",
      "E 430\t A Score: 0.053100000824779274\t: R max : [ 0.1  -0.01]\t\n",
      "E 440\t A Score: 0.052000000812113284\t: R max : [-0.01  0.  ]\t\n",
      "E 450\t A Score: 0.05110000079497695\t: R max : [0.   0.09]\t\n",
      "E 460\t A Score: 0.050800000801682475\t: R max : [0.   0.09]\t\n",
      "E 470\t A Score: 0.054700000863522294\t: R max : [ 0.   -0.01]\t\n",
      "E 480\t A Score: 0.06190000096336007\t: R max : [ 0.   -0.01]\t\n",
      "E 490\t A Score: 0.06670000104233623\t: R max : [0.   0.09]\t\n"
     ]
    }
   ],
   "source": [
    "scores = multi_ddpg(env, env_info, state_size, action_size, brain_name,num_agents, agent,MADDPG,500,1000000)"
   ]
  },
  {
   "cell_type": "code",
   "execution_count": 15,
   "metadata": {},
   "outputs": [],
   "source": [
    "#Episode 1972\tAverage Score: 0.5029000074975193\tScore: 1.0000000149011612envionment solved"
   ]
  },
  {
   "cell_type": "markdown",
   "metadata": {},
   "source": [
    "## Display results for training\n",
    "\n",
    "##### Score"
   ]
  },
  {
   "cell_type": "code",
   "execution_count": 16,
   "metadata": {},
   "outputs": [
    {
     "data": {
      "image/png": "[encoded data removed]",
      "text/plain": [
       "<Figure size 432x288 with 1 Axes>"
      ]
     },
     "metadata": {
      "needs_background": "light"
     },
     "output_type": "display_data"
    }
   ],
   "source": [
    "fig = plt.figure()\n",
    "ax = fig.add_subplot(111)\n",
    "plt.plot(np.arange(1, len(scores)+1), scores)\n",
    "plt.ylabel('Score')\n",
    "plt.xlabel('Episode #')\n",
    "plt.show()"
   ]
  },
  {
   "cell_type": "markdown",
   "metadata": {},
   "source": [
    "#### End of training"
   ]
  },
  {
   "cell_type": "code",
   "execution_count": 17,
   "metadata": {},
   "outputs": [],
   "source": [
    "#env.close()"
   ]
  },
  {
   "cell_type": "markdown",
   "metadata": {},
   "source": [
    "### 2. Test\n",
    "\n",
    "#### Load libraries"
   ]
  },
  {
   "cell_type": "code",
   "execution_count": 18,
   "metadata": {},
   "outputs": [],
   "source": [
    "from unityagents import UnityEnvironment\n",
    "import numpy as np\n",
    "from collections import deque\n",
    "import matplotlib.pyplot as plt\n",
    "%matplotlib inline\n",
    "import torch\n",
    " "
   ]
  },
  {
   "cell_type": "markdown",
   "metadata": {},
   "source": [
    "#### Define testing function"
   ]
  },
  {
   "cell_type": "code",
   "execution_count": 19,
   "metadata": {},
   "outputs": [],
   "source": [
    "def ddpg_Test(env,brain_name,num_agents,agent,file_name_actor,file_name_critic,n_episodes=6000, max_t=1000):\n",
    "    \"\"\" Visualize agent using saved checkpoint. \"\"\"\n",
    "    # load saved weights\n",
    "    agent.actor_local.load_state_dict(torch.load(file_name_actor))\n",
    "    agent.critic_local.load_state_dict(torch.load(file_name_critic)) \n",
    "    scores = []  # list containing scores from each episode\n",
    " \n",
    "    for i_episode in range(1, n_episodes):\n",
    "        env_info = env.reset(train_mode=False)[brain_name]  # environment informations\n",
    "        states = env_info.vector_observations \n",
    "        agent.reset()\n",
    "        score = np.zeros(num_agents) \n",
    "        for t in range(max_t):\n",
    "            actions = agent.act(states,rate=0.9999) # get action using the DDPG algorythme (for each agent)\n",
    "            env_info = env.step(actions)[brain_name]  # update environment informations with the actions of each agent\n",
    "            next_states = env_info.vector_observations  # get next state (for each agent)\n",
    "            rewards = env_info.rewards  # get reward (for each agent)\n",
    "            dones = env_info.local_done  # see if episode finished\n",
    "            states = next_states  # roll over the state to next time step\n",
    "            score =score+ rewards  # update the score for each agent\n",
    "            if any(dones):  # see if episode has finished\n",
    "                break\n",
    "        print('\\rEpisode {}\\tAverage Score: {}, touch: {}'.format(i_episode, np.max(score),t), end=\"\")\n",
    "        scores.append(np.max(score)) # save the best score between both agents\n",
    "\n",
    "    return scores\n",
    "\n"
   ]
  },
  {
   "cell_type": "code",
   "execution_count": 20,
   "metadata": {},
   "outputs": [],
   "source": [
    "def double_ddpg_Test(env,brain_name,num_agents,agent,file_name_actor,file_name_critic,n_episodes=6000, max_t=1000):\n",
    "    \"\"\" Visualize agent using saved checkpoint. \"\"\"\n",
    "    # load saved weights\n",
    "    for i in range(num_agents):\n",
    "        agent.actor_local[i].load_state_dict(torch.load(file_name_actor[i]))\n",
    "        agent.critic_local[i].load_state_dict(torch.load(file_name_critic[i])) \n",
    "        \n",
    "    scores = []                        # list containing scores from each episode\n",
    "    score = 0\n",
    " \n",
    "    for i_episode in range(1, n_episodes):\n",
    "        env_info = env.reset(train_mode=False)[brain_name]\n",
    "        states = env_info.vector_observations \n",
    "        agent.reset() \n",
    "        score = np.zeros(num_agents) \n",
    "        for t in range(max_t):\n",
    "            actions = [agent.act(states[i],rate=0.95,ind=i) for i in range(nb_agent)] # get action from each agent based on the current state\n",
    "            env_info = env.step(actions)[brain_name] \n",
    "            next_states = env_info.vector_observations         # get next state (for each agent)\n",
    "            rewards = env_info.rewards                         # get reward (for each agent)\n",
    "            dones = env_info.local_done                        # see if episode finished\n",
    "            #agent.step(states, actions, rewards, next_states, dones,num_agents)\n",
    "            states = next_states\n",
    "            score =score+ rewards\n",
    "            if any(dones):\n",
    "                break\n",
    "        scores.append(np.max(score)) # save the best score between both agents\n",
    "    print('\\rEpisode {}\\tAverage Score: {}'.format(i_episode, np.max(score)), end=\"\")\n",
    "    return scores"
   ]
  },
  {
   "cell_type": "markdown",
   "metadata": {},
   "source": [
    "#### Load environment"
   ]
  },
  {
   "cell_type": "code",
   "execution_count": 21,
   "metadata": {},
   "outputs": [],
   "source": [
    "#env = UnityEnvironment(file_name=\"/home/raphe/Cours/Nanodegree_DRL/Tennis_Linux/Tennis.x86_64\")"
   ]
  },
  {
   "cell_type": "code",
   "execution_count": 22,
   "metadata": {
    "scrolled": true
   },
   "outputs": [
    {
     "name": "stdout",
     "output_type": "stream",
     "text": [
      "Number of agents: 2\n",
      "Size of each action: 2\n",
      "There are 2 agents. Each observes a state with length: 24\n",
      "The state for the first agent looks like: [ 0.          0.          0.          0.          0.          0.\n",
      "  0.          0.          0.          0.          0.          0.\n",
      "  0.          0.          0.          0.         -6.19835949 -1.5\n",
      " -0.          0.         -7.85035563  5.94114017 -0.          0.        ]\n"
     ]
    }
   ],
   "source": [
    "# reset the environment\n",
    "env_info = env.reset(train_mode=False)[brain_name]\n",
    "\n",
    "# number of agents \n",
    "num_agents = len(env_info.agents)\n",
    "print('Number of agents:', num_agents)\n",
    "\n",
    "# size of each action\n",
    "action_size = brain.vector_action_space_size\n",
    "print('Size of each action:', action_size)\n",
    "\n",
    "# examine the state space \n",
    "states = env_info.vector_observations\n",
    "state_size = states.shape[1]\n",
    "print('There are {} agents. Each observes a state with length: {}'.format(states.shape[0], state_size))\n",
    "print('The state for the first agent looks like:', states[0])\n",
    "nb_agent=2"
   ]
  },
  {
   "cell_type": "code",
   "execution_count": 23,
   "metadata": {},
   "outputs": [
    {
     "ename": "TypeError",
     "evalue": "__init__() missing 1 required positional argument: 'ind'",
     "output_type": "error",
     "traceback": [
      "\u001b[0;31m---------------------------------------------------------------------------\u001b[0m",
      "\u001b[0;31mTypeError\u001b[0m                                 Traceback (most recent call last)",
      "\u001b[0;32m<ipython-input-23-9bb5a0f9a35a>\u001b[0m in \u001b[0;36m<module>\u001b[0;34m\u001b[0m\n\u001b[0;32m----> 1\u001b[0;31m \u001b[0magent\u001b[0m \u001b[0;34m=\u001b[0m\u001b[0mAgent\u001b[0m\u001b[0;34m(\u001b[0m\u001b[0mstate_size\u001b[0m\u001b[0;34m=\u001b[0m\u001b[0mstate_size\u001b[0m\u001b[0;34m,\u001b[0m \u001b[0maction_size\u001b[0m\u001b[0;34m=\u001b[0m\u001b[0maction_size\u001b[0m\u001b[0;34m,\u001b[0m\u001b[0mnb_agent\u001b[0m\u001b[0;34m=\u001b[0m\u001b[0;36m2\u001b[0m\u001b[0;34m,\u001b[0m \u001b[0mrandom_seed\u001b[0m\u001b[0;34m=\u001b[0m\u001b[0;36m1234\u001b[0m\u001b[0;34m)\u001b[0m\u001b[0;34m\u001b[0m\u001b[0m\n\u001b[0m",
      "\u001b[0;31mTypeError\u001b[0m: __init__() missing 1 required positional argument: 'ind'"
     ]
    }
   ],
   "source": [
    "agent =Agent(state_size=state_size, action_size=action_size,nb_agent=2, random_seed=1234)"
   ]
  },
  {
   "cell_type": "markdown",
   "metadata": {},
   "source": [
    "#### Define the weights"
   ]
  },
  {
   "cell_type": "code",
   "execution_count": null,
   "metadata": {},
   "outputs": [],
   "source": [
    "file_name_actor=[]\n",
    "file_name_critic=[]\n",
    "for i in range(num_agents):\n",
    "    file_name_actor.append('multi_checkpoint_actor'+str(i)+'.pth')\n",
    "    file_name_critic.append('multi_checkpoint_critic'+str(i)+'.pth')"
   ]
  },
  {
   "cell_type": "markdown",
   "metadata": {},
   "source": [
    "#### Load the weight, start testing"
   ]
  },
  {
   "cell_type": "code",
   "execution_count": null,
   "metadata": {},
   "outputs": [],
   "source": [
    "scores=double_ddpg_Test(env,brain_name,num_agents,agent,file_name_actor,file_name_critic ,n_episodes=20,max_t=100)"
   ]
  },
  {
   "cell_type": "markdown",
   "metadata": {},
   "source": [
    " #### Display score"
   ]
  },
  {
   "cell_type": "code",
   "execution_count": null,
   "metadata": {},
   "outputs": [],
   "source": [
    "fig = plt.figure()\n",
    "ax = fig.add_subplot(111)\n",
    "plt.plot(np.arange(1, len(scores)+1), scores)\n",
    "plt.ylabel('Score')\n",
    "plt.xlabel('Episode #')\n",
    "plt.show()"
   ]
  },
  {
   "cell_type": "markdown",
   "metadata": {},
   "source": [
    "#### End of testing"
   ]
  },
  {
   "cell_type": "code",
   "execution_count": null,
   "metadata": {},
   "outputs": [],
   "source": [
    "env.close()"
   ]
  },
  {
   "cell_type": "code",
   "execution_count": null,
   "metadata": {},
   "outputs": [],
   "source": []
  }
 ],
 "metadata": {
  "kernelspec": {
   "display_name": "Python 3",
   "language": "python",
   "name": "python3"
  },
  "language_info": {
   "codemirror_mode": {
    "name": "ipython",
    "version": 3
   },
   "file_extension": ".py",
   "mimetype": "text/x-python",
   "name": "python",
   "nbconvert_exporter": "python",
   "pygments_lexer": "ipython3",
   "version": "3.5.2"
  }
 },
 "nbformat": 4,
 "nbformat_minor": 2
}
